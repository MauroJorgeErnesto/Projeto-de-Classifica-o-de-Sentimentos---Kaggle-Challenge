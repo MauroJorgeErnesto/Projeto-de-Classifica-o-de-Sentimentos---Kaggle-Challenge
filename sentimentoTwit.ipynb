{
 "cells": [
  {
   "cell_type": "code",
   "execution_count": null,
   "metadata": {},
   "outputs": [],
   "source": [
    "# Entendimento e Preparação dos Dados\n",
    "\n",
    "import pandas as pd\n",
    "\n",
    "df = pd.read_csv('twitter_training.csv', encoding='latin1')\n",
    "\n",
    "df_separado = df.iloc[:, 0].str.split(';', expand = True)\n",
    "\n",
    "# Selecionar as primeiras 4 colunas e atribuir um nome\n",
    "df_separado = df_separado.iloc[:, :4]\n",
    "df_separado.columns = ['ID', 'Informações', 'Tipo', 'Comentarios']\n",
    "\n",
    "# Remover espaços em branco\n",
    "df_separado = df_separado.apply(lambda x: x.str.strip() if x.dtype == \"object\" else x)\n",
    "\n",
    "df_separado['ID'] = pd.to_numeric(df_separado['ID'], errors ='coerce')\n",
    "\n",
    "print(df_separado.isnull().sum())\n",
    "df_separado = df_separado.dropna()\n",
    "\n",
    "df = df_separado\n",
    "\n",
    "#Remoção de Valores Nulos\n",
    "df = df.dropna()\n",
    "\n",
    "#Verificação de Duplicatas\n",
    "df = df.drop_duplicates()\n",
    "\n",
    "df = df.drop(columns=['num_separadores'], errors='ignore')\n",
    "\n",
    "print(df.info())\n",
    "print(df.head())"
   ]
  },
  {
   "cell_type": "code",
   "execution_count": null,
   "metadata": {},
   "outputs": [],
   "source": [
    "#Pré-processamento de Dados\n",
    "\n",
    "#(a) Remova URLs, menções, hashtags, caracteres especiais, números, etc.\n",
    "\n",
    "import re \n",
    "\n",
    "def limpar_text(texto):\n",
    "    texto = re.sub(r'http\\S+', '', texto)  # Remove URLs\n",
    "    texto = re.sub(r'@\\w+', '', texto)     # Remove menções\n",
    "    texto = re.sub(r'#\\w+', '', texto)     # Remove hashtags\n",
    "    texto = re.sub(r'[^A-Za-z\\s]', '', texto)  # Remove caracteres especiais\n",
    "    texto = texto.lower()                   # Converte para minúsculas\n",
    "    return texto\n",
    "\n",
    "df['Comentarios_limpos'] = df['Comentarios'].apply(limpar_text)\n",
    "\n",
    "print(df.head())"
   ]
  },
  {
   "cell_type": "code",
   "execution_count": null,
   "metadata": {},
   "outputs": [],
   "source": [
    "#(b) Tokenização e Remoção de Stopwords\n",
    "\n",
    "import nltk\n",
    "from nltk.corpus import stopwords\n",
    "from nltk.tokenize import word_tokenize\n",
    "\n",
    "nltk.download('punkt')\n",
    "nltk.download('stopwords')\n",
    "\n",
    "#carrega a lista de palavras irrelevantes da língua inglesa\n",
    "stop_words = set(stopwords.words('english')) \n",
    "\n",
    "# função para remover stopwords(palavras irrelevantes)\n",
    "def remover_stopwords(texto):\n",
    "    tokens = word_tokenize(texto)\n",
    "    tokens_filtrados = [word for word in tokens if word not in stop_words]\n",
    "    return ' '.join(tokens_filtrados)\n",
    "\n",
    "#Aplicação da Função ao DataFrame\n",
    "df['Comentarios_limpos'] = df['Comentarios_limpos'].apply(remover_stopwords)\n"
   ]
  },
  {
   "cell_type": "code",
   "execution_count": 5,
   "metadata": {},
   "outputs": [],
   "source": [
    "# (c) Vamos utilizar a técnica de stemming para reduzir as palavras ao seu radical (ou raiz)\n",
    "\n",
    "from nltk import PorterStemmer\n",
    "\n",
    "# Inicializa o PorterStemmer\n",
    "stemmer = PorterStemmer()\n",
    "\n",
    "def stemizar(texto):\n",
    "    tokens = word_tokenize(texto)\n",
    "    tokens_stemizados = [stemmer.stem(word) for word in tokens]\n",
    "    return ' '.join(tokens_stemizados)\n",
    "\n",
    "df['Comentarios_limpos'] = df['Comentarios_limpos'].apply(stemizar)"
   ]
  },
  {
   "cell_type": "code",
   "execution_count": 22,
   "metadata": {},
   "outputs": [
    {
     "data": {
      "image/png": "[encoded data removed]",
      "text/plain": [
       "<Figure size 640x480 with 1 Axes>"
      ]
     },
     "metadata": {},
     "output_type": "display_data"
    }
   ],
   "source": [
    "# Análise Exploratória dos Dados (EDA)\n",
    "        #a. Distribuição das Classes\n",
    "\n",
    "import seaborn as sns\n",
    "import matplotlib.pyplot as plt\n",
    "\n",
    "sns.countplot(x='Tipo', data=df)\n",
    "plt.title('Distribuição das classes de Sentimento')\n",
    "plt.show()\n"
   ]
  },
  {
   "cell_type": "code",
   "execution_count": null,
   "metadata": {},
   "outputs": [],
   "source": [
    "#b. Palavras Mais Frequentes: Visualizar as palavras mais comuns em cada classe de sentimento.\n",
    "\n",
    "from collections import Counter\n",
    "\n",
    "#Filtrar Comentários por Tipo\n",
    "positivo = df[df['Tipo'] == 'Positive']['Comentarios_limpos']\n",
    "negativo = df[df['Tipo'] == 'Negative']['Comentarios_limpos']\n",
    "neutro = df[df['Tipo'] == 'Neutral']['Comentarios_limpos']\n",
    "\n",
    "#Contagem de Palavras\n",
    "contador_positivo = Counter(' '.join(positivo).split())\n",
    "contador_negativo = Counter(' '.join(negativo).split())\n",
    "contador_neutro = Counter(' '.join(neutro).split())\n",
    "\n",
    "#Mostrar as Palavras Mais Comuns\n",
    "print(contador_positivo.most_common(20), '\\n')\n",
    "print(contador_negativo.most_common(20), '\\n')\n",
    "print(contador_neutro.most_common(20), '\\n')\n"
   ]
  },
  {
   "cell_type": "code",
   "execution_count": null,
   "metadata": {},
   "outputs": [],
   "source": [
    "#Preparação para Modelagem\n",
    "        # a) Divisão dos Dados\n",
    "\n",
    "from sklearn.model_selection import train_test_split\n",
    "\n",
    "x = df['Comentarios_limpos']\n",
    "y = df['Tipo']\n",
    "\n",
    "x_train, x_test, y_train, y_test = train_test_split(x, y, test_size=0.2, random_state=42)\n",
    "\n",
    "# Verificar o tamanho dos conjuntos\n",
    "print(f'Tamanho do conjunto de treinamento: {x_train.shape[0]}')\n",
    "print(f'Tamanho do conjunto de teste: {x_test.shape[0]}')"
   ]
  },
  {
   "cell_type": "code",
   "execution_count": 9,
   "metadata": {},
   "outputs": [],
   "source": [
    "# b. Vetorização do Texto\n",
    "\n",
    "from sklearn.feature_extraction.text import TfidfVectorizer\n",
    "\n",
    "vectorizer = TfidfVectorizer(max_features=5000)\n",
    "x_train_vect = vectorizer.fit_transform(x_train)\n",
    "x_test_vect = vectorizer.transform(x_test)\n"
   ]
  },
  {
   "cell_type": "code",
   "execution_count": null,
   "metadata": {},
   "outputs": [],
   "source": [
    "#Regressão Logística\n",
    "\n",
    "from sklearn.linear_model import LogisticRegression\n",
    "from sklearn.metrics import classification_report, confusion_matrix, accuracy_score\n",
    "\n",
    "modelo = LogisticRegression(max_iter=1000)\n",
    "modelo.fit(x_train_vect, y_train)\n",
    "\n",
    "y_pred = modelo.predict(x_test_vect)\n",
    "\n",
    "print(confusion_matrix(y_test, y_pred))\n",
    "print(classification_report(y_test, y_pred))\n",
    "print(f'Acurácia: {accuracy_score(y_test, y_pred)}')\n"
   ]
  },
  {
   "cell_type": "code",
   "execution_count": null,
   "metadata": {},
   "outputs": [],
   "source": [
    "#Avaliação do modelo: Validação Cruzada\n",
    "\n",
    "from sklearn.model_selection import cross_val_score\n",
    "\n",
    "scores = cross_val_score(modelo, x_train_vect, y_train, cv=5, scoring='accuracy')\n",
    "print(f'Acurácia média com CV: {scores.mean()}')\n"
   ]
  },
  {
   "cell_type": "code",
   "execution_count": null,
   "metadata": {},
   "outputs": [],
   "source": [
    "#7. Ajuste de Hiperparâmetros (Hyperparameter Tuning)\n",
    "        #a. Utilizando Grid Search:\n",
    "\n",
    "from sklearn.model_selection import GridSearchCV\n",
    "\n",
    "parametros = {\n",
    "    'C': [0.1, 1, 10],\n",
    "    'solver': ['liblinear', 'saga']\n",
    "}\n",
    "\n",
    "grid = GridSearchCV(LogisticRegression(), parametros, cv=5, scoring='accuracy')\n",
    "grid.fit(x_train_vect, y_train)\n",
    "\n",
    "print(f'Melhores parâmetros: {grid.best_params_}')\n",
    "print(f'Melhor acurácia: {grid.best_score_}')\n"
   ]
  },
  {
   "cell_type": "code",
   "execution_count": 21,
   "metadata": {},
   "outputs": [
    {
     "data": {
      "text/plain": [
       "['vectorizer.pkl']"
      ]
     },
     "execution_count": 21,
     "metadata": {},
     "output_type": "execute_result"
    }
   ],
   "source": [
    "import joblib\n",
    "\n",
    "joblib.dump(modelo, 'modelo_sentimento_Twitter.pkl')\n",
    "joblib.dump(vectorizer, 'vectorizer.pkl')"
   ]
  }
 ],
 "metadata": {
  "kernelspec": {
   "display_name": "base",
   "language": "python",
   "name": "python3"
  },
  "language_info": {
   "codemirror_mode": {
    "name": "ipython",
    "version": 3
   },
   "file_extension": ".py",
   "mimetype": "text/x-python",
   "name": "python",
   "nbconvert_exporter": "python",
   "pygments_lexer": "ipython3",
   "version": "3.12.4"
  }
 },
 "nbformat": 4,
 "nbformat_minor": 2
}
